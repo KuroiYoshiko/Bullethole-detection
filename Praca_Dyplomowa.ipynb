{
  "nbformat": 4,
  "nbformat_minor": 0,
  "metadata": {
    "colab": {
      "provenance": [],
      "collapsed_sections": [
        "_-SXvdlff4EE",
        "54n69Cy8f-tC",
        "CqWvZp4BgMGn",
        "aeDwFQR9ggnz",
        "j_wG5XZJguMl",
        "Mhz0pauPg1iH",
        "WiNSxaLSixJL",
        "2mgcE_uThFFB"
      ],
      "authorship_tag": "ABX9TyMYLvdJ3rSi1M5X6Lh3DoLg",
      "include_colab_link": true
    },
    "kernelspec": {
      "name": "python3",
      "display_name": "Python 3"
    },
    "language_info": {
      "name": "python"
    }
  },
  "cells": [
    {
      "cell_type": "markdown",
      "metadata": {
        "id": "view-in-github",
        "colab_type": "text"
      },
      "source": [
        "<a href=\"https://colab.research.google.com/github/KuroiYoshiko/Bullethole-detection/blob/main/Praca_Dyplomowa.ipynb\" target=\"_parent\"><img src=\"https://colab.research.google.com/assets/colab-badge.svg\" alt=\"Open In Colab\"/></a>"
      ]
    },
    {
      "cell_type": "markdown",
      "source": [
        "# **Uczenie modelu**"
      ],
      "metadata": {
        "id": "CnLMt1htfySo"
      }
    },
    {
      "cell_type": "markdown",
      "source": [
        "### **Zamontowanie Dysku Google**"
      ],
      "metadata": {
        "id": "IHp0cgsg3Oze"
      }
    },
    {
      "cell_type": "code",
      "source": [
        "from google.colab import drive\n",
        "drive.mount('/content/drive')"
      ],
      "metadata": {
        "id": "1lFG8Uv-3Llj",
        "colab": {
          "base_uri": "https://localhost:8080/"
        },
        "outputId": "2be9399a-71ec-481d-e0c4-27d07f54e5fd"
      },
      "execution_count": null,
      "outputs": [
        {
          "output_type": "stream",
          "name": "stdout",
          "text": [
            "Drive already mounted at /content/drive; to attempt to forcibly remount, call drive.mount(\"/content/drive\", force_remount=True).\n"
          ]
        }
      ]
    },
    {
      "cell_type": "markdown",
      "source": [
        "### **Ustawienie ścieżek oraz utworzenie folderów**"
      ],
      "metadata": {
        "id": "_-SXvdlff4EE"
      }
    },
    {
      "cell_type": "code",
      "source": [
        "import os\n",
        "\n",
        "MY_MODEL_NAME = 'my_faster_rcnn_inception_resnet_v2_1024x1024'\n",
        "PRETRAINED_MODEL_NAME = 'faster_rcnn_inception_resnet_v2_1024x1024_coco17_tpu-8'\n",
        "PRETRAINED_MODEL_URL = 'http://download.tensorflow.org/models/object_detection/tf2/20200711/faster_rcnn_inception_resnet_v2_1024x1024_coco17_tpu-8.tar.gz'\n",
        "RECORD_SCRIPT_NAME = 'generate_tfrecord.py'\n",
        "LABEL_MAP_NAME = 'label_map.pbtxt'\n",
        "\n",
        "paths = {\n",
        "    'WORKSPACE_PATH': os.path.join('Tensorflow', 'workspace'),\n",
        "    'SCRIPTS_PATH': os.path.join('Tensorflow','scripts'),\n",
        "    'APIMODEL_PATH': os.path.join('Tensorflow','models'),\n",
        "    'ANNOTATION_PATH': os.path.join('Tensorflow', 'workspace','annotations'),\n",
        "    'IMAGE_PATH': os.path.join('Tensorflow', 'workspace','images'),\n",
        "    'MODEL_PATH': os.path.join('Tensorflow', 'workspace','models'),\n",
        "    'PRETRAINED_MODEL_PATH': os.path.join('Tensorflow', 'workspace','pre-trained-models'),\n",
        "    'CHECKPOINT_PATH': os.path.join('Tensorflow', 'workspace','models',MY_MODEL_NAME),\n",
        "    'OUTPUT_PATH': os.path.join('Tensorflow', 'workspace','models',MY_MODEL_NAME, 'export'),\n",
        "    'TFJSEXPORT_PATH':os.path.join('Tensorflow', 'workspace','models',MY_MODEL_NAME, 'tfjsexport'),\n",
        "    'TFLITEEXPORT_PATH':os.path.join('Tensorflow', 'workspace','models',MY_MODEL_NAME, 'tfliteexport'),\n",
        "    'PROTOC_PATH':os.path.join('Tensorflow','protoc')\n",
        " }\n",
        "\n",
        "files = {\n",
        "    'PIPELINE_CONFIG':os.path.join('Tensorflow', 'workspace','models', MY_MODEL_NAME, 'pipeline.config'),\n",
        "    'TF_RECORD_SCRIPT': os.path.join(paths['SCRIPTS_PATH'], RECORD_SCRIPT_NAME),\n",
        "    'LABELMAP': os.path.join(paths['ANNOTATION_PATH'], LABEL_MAP_NAME)\n",
        "}\n",
        "\n",
        "for path in paths.values():\n",
        "    if not os.path.exists(path):\n",
        "        if os.name == 'posix':\n",
        "            !mkdir -p {path}\n",
        "        if os.name == 'nt':\n",
        "            !mkdir {path}"
      ],
      "metadata": {
        "id": "pqFbJ8uGf8zl"
      },
      "execution_count": null,
      "outputs": []
    },
    {
      "cell_type": "markdown",
      "source": [
        "### **Pobranie modelu z repozytorium Tensorflow Model Zoo i instalacja Tenserflow Object Detection**"
      ],
      "metadata": {
        "id": "54n69Cy8f-tC"
      }
    },
    {
      "cell_type": "code",
      "source": [
        "if os.name=='nt':\n",
        "    !pip install wget\n",
        "    import wget\n",
        "\n",
        "if not os.path.exists(os.path.join(paths['APIMODEL_PATH'], 'research', 'object_detection')):\n",
        "    !git clone https://github.com/tensorflow/models {paths['APIMODEL_PATH']}\n",
        "\n",
        "if os.name=='posix':\n",
        "    !apt-get install protobuf-compiler\n",
        "    !cd Tensorflow/models/research && protoc object_detection/protos/*.proto --python_out=. && cp object_detection/packages/tf2/setup.py . && python -m pip install .\n",
        "\n",
        "if os.name=='nt':\n",
        "    url=\"https://github.com/protocolbuffers/protobuf/releases/download/v3.15.6/protoc-3.15.6-win64.zip\"\n",
        "    wget.download(url)\n",
        "    !move protoc-3.15.6-win64.zip {paths['PROTOC_PATH']}\n",
        "    !cd {paths['PROTOC_PATH']} && tar -xf protoc-3.15.6-win64.zip\n",
        "    os.environ['PATH'] += os.pathsep + os.path.abspath(os.path.join(paths['PROTOC_PATH'], 'bin'))\n",
        "    !cd Tensorflow/models/research && protoc object_detection/protos/*.proto --python_out=. && copy object_detection\\\\packages\\\\tf2\\\\setup.py setup.py && python setup.py build && python setup.py install\n",
        "    !cd Tensorflow/models/research/slim && pip install -e ."
      ],
      "metadata": {
        "id": "o_jcUw7WgCA4"
      },
      "execution_count": null,
      "outputs": []
    },
    {
      "cell_type": "markdown",
      "source": [
        "Skrypt weryfikujący instalacje"
      ],
      "metadata": {
        "id": "n6x_H5s_gDRw"
      }
    },
    {
      "cell_type": "code",
      "source": [
        "VERIFICATION_SCRIPT = os.path.join(paths['APIMODEL_PATH'], 'research', 'object_detection', 'builders', 'model_builder_tf2_test.py')\n",
        "!python {VERIFICATION_SCRIPT}"
      ],
      "metadata": {
        "id": "A4_ipyrbgEA5"
      },
      "execution_count": null,
      "outputs": []
    },
    {
      "cell_type": "markdown",
      "source": [
        "Pobranie i wypakowanie modelu"
      ],
      "metadata": {
        "id": "R7n-FC9lgGYZ"
      }
    },
    {
      "cell_type": "code",
      "source": [
        "if os.name =='posix':\n",
        "    !wget {PRETRAINED_MODEL_URL}\n",
        "    !mv {PRETRAINED_MODEL_NAME+'.tar.gz'} {paths['PRETRAINED_MODEL_PATH']}\n",
        "    !cd {paths['PRETRAINED_MODEL_PATH']} && tar -zxvf {PRETRAINED_MODEL_NAME+'.tar.gz'}\n",
        "if os.name == 'nt':\n",
        "    wget.download(PRETRAINED_MODEL_URL)\n",
        "    !move {PRETRAINED_MODEL_NAME+'.tar.gz'} {paths['PRETRAINED_MODEL_PATH']}\n",
        "    !cd {paths['PRETRAINED_MODEL_PATH']} && tar -zxvf {PRETRAINED_MODEL_NAME+'.tar.gz'}"
      ],
      "metadata": {
        "id": "CkTWBEjzgFq5"
      },
      "execution_count": null,
      "outputs": []
    },
    {
      "cell_type": "markdown",
      "source": [
        "### **Import obrazów z Dysku Google**"
      ],
      "metadata": {
        "id": "bB-Cj7ceWdec"
      }
    },
    {
      "cell_type": "markdown",
      "source": [
        "Kopiowanie archiwum z obrazami z dysku google"
      ],
      "metadata": {
        "id": "YzLXmUSn3kqS"
      }
    },
    {
      "cell_type": "code",
      "source": [
        "if os.name =='posix':\n",
        "    !cp 'drive/MyDrive/Praca_Dyplomowa/archive.tar.gz' 'Tensorflow/workspace/images'\n",
        "if os.name == 'nt':\n",
        "    !copy 'drive/MyDrive/Praca_Dyplomowa/archive.tar.gz' 'Tensorflow/workspace/images'"
      ],
      "metadata": {
        "id": "MTahtb_2W3m_"
      },
      "execution_count": null,
      "outputs": []
    },
    {
      "cell_type": "markdown",
      "source": [
        "Wypakowanie folderu z obrazami"
      ],
      "metadata": {
        "id": "xUK1nkUxW6gZ"
      }
    },
    {
      "cell_type": "code",
      "source": [
        "ARCHIVE_FILES = os.path.join(paths['IMAGE_PATH'], 'archive.tar.gz')\n",
        "if os.path.exists(ARCHIVE_FILES):\n",
        "  !tar -zxvf {ARCHIVE_FILES}"
      ],
      "metadata": {
        "id": "bDwKZOrfW9Hk",
        "colab": {
          "base_uri": "https://localhost:8080/"
        },
        "outputId": "ad7187fc-d8e3-4b81-83d1-b401fd3672df"
      },
      "execution_count": null,
      "outputs": [
        {
          "output_type": "stream",
          "name": "stdout",
          "text": [
            "Tensorflow/workspace/images/train/\n",
            "Tensorflow/workspace/images/train/WIN_20211121_12_42_49_Pro.jpg\n",
            "Tensorflow/workspace/images/train/WIN_20211121_12_42_49_Pro.xml\n",
            "Tensorflow/workspace/images/train/WIN_20211121_12_43_31_Pro.jpg\n",
            "Tensorflow/workspace/images/train/WIN_20211121_12_43_31_Pro.xml\n",
            "Tensorflow/workspace/images/train/WIN_20211121_12_44_03_Pro.jpg\n",
            "Tensorflow/workspace/images/train/WIN_20211121_12_44_03_Pro.xml\n",
            "Tensorflow/workspace/images/train/WIN_20211121_12_44_31_Pro.jpg\n",
            "Tensorflow/workspace/images/train/WIN_20211121_12_44_31_Pro.xml\n",
            "Tensorflow/workspace/images/train/WIN_20211121_12_50_24_Pro.jpg\n",
            "Tensorflow/workspace/images/train/WIN_20211121_12_50_24_Pro.xml\n",
            "Tensorflow/workspace/images/train/WIN_20211121_12_50_35_Pro.jpg\n",
            "Tensorflow/workspace/images/train/WIN_20211121_12_50_35_Pro.xml\n",
            "Tensorflow/workspace/images/train/WIN_20211121_12_51_24_Pro.jpg\n",
            "Tensorflow/workspace/images/train/WIN_20211121_12_51_24_Pro.xml\n",
            "Tensorflow/workspace/images/train/WIN_20211121_12_51_35_Pro.jpg\n",
            "Tensorflow/workspace/images/train/WIN_20211121_12_51_35_Pro.xml\n",
            "Tensorflow/workspace/images/train/WIN_20211121_12_51_53_Pro.jpg\n",
            "Tensorflow/workspace/images/train/WIN_20211121_12_51_53_Pro.xml\n",
            "Tensorflow/workspace/images/train/WIN_20211121_12_52_11_Pro.jpg\n",
            "Tensorflow/workspace/images/train/WIN_20211121_12_52_11_Pro.xml\n",
            "Tensorflow/workspace/images/train/WIN_20211121_12_52_51_Pro.jpg\n",
            "Tensorflow/workspace/images/train/WIN_20211121_12_52_51_Pro.xml\n",
            "Tensorflow/workspace/images/train/WIN_20211121_12_53_11_Pro.jpg\n",
            "Tensorflow/workspace/images/train/WIN_20211121_12_53_11_Pro.xml\n",
            "Tensorflow/workspace/images/train/WIN_20211121_12_53_21_Pro.jpg\n",
            "Tensorflow/workspace/images/train/WIN_20211121_12_53_21_Pro.xml\n",
            "Tensorflow/workspace/images/train/WIN_20211121_12_53_32_Pro.jpg\n",
            "Tensorflow/workspace/images/train/WIN_20211121_12_53_32_Pro.xml\n",
            "Tensorflow/workspace/images/train/WIN_20211121_12_53_43_Pro.jpg\n",
            "Tensorflow/workspace/images/train/WIN_20211121_12_53_43_Pro.xml\n",
            "Tensorflow/workspace/images/train/WIN_20211121_12_53_53_Pro.jpg\n",
            "Tensorflow/workspace/images/train/WIN_20211121_12_53_53_Pro.xml\n",
            "Tensorflow/workspace/images/train/WIN_20211121_12_54_03_Pro.jpg\n",
            "Tensorflow/workspace/images/train/WIN_20211121_12_54_03_Pro.xml\n",
            "Tensorflow/workspace/images/train/WIN_20211121_12_54_15_Pro.jpg\n",
            "Tensorflow/workspace/images/train/WIN_20211121_12_54_15_Pro.xml\n",
            "Tensorflow/workspace/images/train/WIN_20211121_12_54_25_Pro.jpg\n",
            "Tensorflow/workspace/images/train/WIN_20211121_12_54_25_Pro.xml\n",
            "Tensorflow/workspace/images/train/WIN_20211121_12_54_38_Pro.jpg\n",
            "Tensorflow/workspace/images/train/WIN_20211121_12_54_38_Pro.xml\n",
            "Tensorflow/workspace/images/train/WIN_20211121_12_54_51_Pro.jpg\n",
            "Tensorflow/workspace/images/train/WIN_20211121_12_54_51_Pro.xml\n",
            "Tensorflow/workspace/images/train/WIN_20211121_12_55_03_Pro.jpg\n",
            "Tensorflow/workspace/images/train/WIN_20211121_12_55_03_Pro.xml\n",
            "Tensorflow/workspace/images/train/WIN_20211121_12_55_21_Pro.jpg\n",
            "Tensorflow/workspace/images/train/WIN_20211121_12_55_21_Pro.xml\n",
            "Tensorflow/workspace/images/train/WIN_20211121_12_55_30_Pro.jpg\n",
            "Tensorflow/workspace/images/train/WIN_20211121_12_55_30_Pro.xml\n",
            "Tensorflow/workspace/images/train/WIN_20211121_12_55_41_Pro.jpg\n",
            "Tensorflow/workspace/images/train/WIN_20211121_12_55_41_Pro.xml\n",
            "Tensorflow/workspace/images/train/WIN_20211121_12_55_50_Pro.jpg\n",
            "Tensorflow/workspace/images/train/WIN_20211121_12_55_50_Pro.xml\n",
            "Tensorflow/workspace/images/train/WIN_20211121_12_55_58_Pro.jpg\n",
            "Tensorflow/workspace/images/train/WIN_20211121_12_55_58_Pro.xml\n",
            "Tensorflow/workspace/images/train/WIN_20211121_12_56_10_Pro.jpg\n",
            "Tensorflow/workspace/images/train/WIN_20211121_12_56_10_Pro.xml\n",
            "Tensorflow/workspace/images/train/WIN_20211121_12_56_19_Pro.jpg\n",
            "Tensorflow/workspace/images/train/WIN_20211121_12_56_19_Pro.xml\n",
            "Tensorflow/workspace/images/train/WIN_20211121_12_56_28_Pro.jpg\n",
            "Tensorflow/workspace/images/train/WIN_20211121_12_56_28_Pro.xml\n",
            "Tensorflow/workspace/images/train/WIN_20211121_12_56_36_Pro.jpg\n",
            "Tensorflow/workspace/images/train/WIN_20211121_12_56_36_Pro.xml\n",
            "Tensorflow/workspace/images/train/WIN_20211121_12_56_45_Pro.jpg\n",
            "Tensorflow/workspace/images/train/WIN_20211121_12_56_45_Pro.xml\n",
            "Tensorflow/workspace/images/train/WIN_20211121_12_57_06_Pro.jpg\n",
            "Tensorflow/workspace/images/train/WIN_20211121_12_57_06_Pro.xml\n",
            "Tensorflow/workspace/images/train/WIN_20211121_12_57_15_Pro.jpg\n",
            "Tensorflow/workspace/images/train/WIN_20211121_12_57_15_Pro.xml\n",
            "Tensorflow/workspace/images/train/WIN_20211121_12_57_25_Pro.jpg\n",
            "Tensorflow/workspace/images/train/WIN_20211121_12_57_25_Pro.xml\n",
            "Tensorflow/workspace/images/train/WIN_20211121_12_57_34_Pro.jpg\n",
            "Tensorflow/workspace/images/train/WIN_20211121_12_57_34_Pro.xml\n",
            "Tensorflow/workspace/images/train/WIN_20211121_12_57_45_Pro.jpg\n",
            "Tensorflow/workspace/images/train/WIN_20211121_12_57_45_Pro.xml\n",
            "Tensorflow/workspace/images/train/WIN_20211121_12_57_54_Pro.jpg\n",
            "Tensorflow/workspace/images/train/WIN_20211121_12_57_54_Pro.xml\n",
            "Tensorflow/workspace/images/train/WIN_20211121_12_58_03_Pro.jpg\n",
            "Tensorflow/workspace/images/train/WIN_20211121_12_58_03_Pro.xml\n",
            "Tensorflow/workspace/images/train/WIN_20211121_12_58_12_Pro.jpg\n",
            "Tensorflow/workspace/images/train/WIN_20211121_12_58_12_Pro.xml\n",
            "Tensorflow/workspace/images/train/WIN_20211121_12_58_20_Pro.jpg\n",
            "Tensorflow/workspace/images/train/WIN_20211121_12_58_20_Pro.xml\n",
            "Tensorflow/workspace/images/train/WIN_20211121_12_58_28_Pro.jpg\n",
            "Tensorflow/workspace/images/train/WIN_20211121_12_58_28_Pro.xml\n",
            "Tensorflow/workspace/images/train/WIN_20211121_12_58_35_Pro.jpg\n",
            "Tensorflow/workspace/images/train/WIN_20211121_12_58_35_Pro.xml\n",
            "Tensorflow/workspace/images/train/WIN_20211121_12_58_43_Pro.jpg\n",
            "Tensorflow/workspace/images/train/WIN_20211121_12_58_43_Pro.xml\n",
            "Tensorflow/workspace/images/train/WIN_20211121_12_59_06_Pro.jpg\n",
            "Tensorflow/workspace/images/train/WIN_20211121_12_59_06_Pro.xml\n",
            "Tensorflow/workspace/images/train/WIN_20211121_12_59_41_Pro.jpg\n",
            "Tensorflow/workspace/images/train/WIN_20211121_12_59_41_Pro.xml\n",
            "Tensorflow/workspace/images/train/WIN_20211121_12_59_52_Pro.jpg\n",
            "Tensorflow/workspace/images/train/WIN_20211121_12_59_52_Pro.xml\n",
            "Tensorflow/workspace/images/train/WIN_20211121_13_00_01_Pro.jpg\n",
            "Tensorflow/workspace/images/train/WIN_20211121_13_00_01_Pro.xml\n",
            "Tensorflow/workspace/images/train/WIN_20211121_13_00_09_Pro.jpg\n",
            "Tensorflow/workspace/images/train/WIN_20211121_13_00_09_Pro.xml\n",
            "Tensorflow/workspace/images/train/WIN_20211121_13_03_01_Pro.jpg\n",
            "Tensorflow/workspace/images/train/WIN_20211121_13_03_01_Pro.xml\n",
            "Tensorflow/workspace/images/train/WIN_20211121_13_03_11_Pro.jpg\n",
            "Tensorflow/workspace/images/train/WIN_20211121_13_03_11_Pro.xml\n",
            "Tensorflow/workspace/images/train/WIN_20211121_13_03_20_Pro.jpg\n",
            "Tensorflow/workspace/images/train/WIN_20211121_13_03_20_Pro.xml\n",
            "Tensorflow/workspace/images/train/WIN_20211121_13_03_29_Pro.jpg\n",
            "Tensorflow/workspace/images/train/WIN_20211121_13_03_29_Pro.xml\n",
            "Tensorflow/workspace/images/train/WIN_20211121_13_03_40_Pro.jpg\n",
            "Tensorflow/workspace/images/train/WIN_20211121_13_03_40_Pro.xml\n",
            "Tensorflow/workspace/images/train/WIN_20211121_13_03_48_Pro.jpg\n",
            "Tensorflow/workspace/images/train/WIN_20211121_13_03_48_Pro.xml\n",
            "Tensorflow/workspace/images/train/WIN_20211121_13_03_57_Pro.jpg\n",
            "Tensorflow/workspace/images/train/WIN_20211121_13_03_57_Pro.xml\n",
            "Tensorflow/workspace/images/train/WIN_20211121_13_04_06_Pro.jpg\n",
            "Tensorflow/workspace/images/train/WIN_20211121_13_04_06_Pro.xml\n",
            "Tensorflow/workspace/images/train/WIN_20211121_13_04_14_Pro.jpg\n",
            "Tensorflow/workspace/images/train/WIN_20211121_13_04_14_Pro.xml\n",
            "Tensorflow/workspace/images/train/WIN_20211121_13_04_31_Pro.jpg\n",
            "Tensorflow/workspace/images/train/WIN_20211121_13_04_31_Pro.xml\n",
            "Tensorflow/workspace/images/train/WIN_20211121_13_04_42_Pro.jpg\n",
            "Tensorflow/workspace/images/train/WIN_20211121_13_04_42_Pro.xml\n",
            "Tensorflow/workspace/images/train/WIN_20211121_13_04_52_Pro.jpg\n",
            "Tensorflow/workspace/images/train/WIN_20211121_13_04_52_Pro.xml\n",
            "Tensorflow/workspace/images/train/WIN_20211121_13_05_02_Pro.jpg\n",
            "Tensorflow/workspace/images/train/WIN_20211121_13_05_02_Pro.xml\n",
            "Tensorflow/workspace/images/train/WIN_20211121_13_05_11_Pro.jpg\n",
            "Tensorflow/workspace/images/train/WIN_20211121_13_05_11_Pro.xml\n",
            "Tensorflow/workspace/images/train/WIN_20211121_13_05_20_Pro.jpg\n",
            "Tensorflow/workspace/images/train/WIN_20211121_13_05_20_Pro.xml\n",
            "Tensorflow/workspace/images/train/WIN_20211121_13_05_28_Pro.jpg\n",
            "Tensorflow/workspace/images/train/WIN_20211121_13_05_28_Pro.xml\n",
            "Tensorflow/workspace/images/train/WIN_20211121_13_05_37_Pro.jpg\n",
            "Tensorflow/workspace/images/train/WIN_20211121_13_05_37_Pro.xml\n",
            "Tensorflow/workspace/images/train/WIN_20211121_13_05_50_Pro.jpg\n",
            "Tensorflow/workspace/images/train/WIN_20211121_13_05_50_Pro.xml\n",
            "Tensorflow/workspace/images/train/WIN_20211121_13_06_00_Pro.jpg\n",
            "Tensorflow/workspace/images/train/WIN_20211121_13_06_00_Pro.xml\n",
            "Tensorflow/workspace/images/train/WIN_20211121_13_06_08_Pro.jpg\n",
            "Tensorflow/workspace/images/train/WIN_20211121_13_06_08_Pro.xml\n",
            "Tensorflow/workspace/images/train/WIN_20211121_13_06_16_Pro.jpg\n",
            "Tensorflow/workspace/images/train/WIN_20211121_13_06_16_Pro.xml\n",
            "Tensorflow/workspace/images/train/WIN_20211121_13_06_25_Pro.jpg\n",
            "Tensorflow/workspace/images/train/WIN_20211121_13_06_25_Pro.xml\n",
            "Tensorflow/workspace/images/train/WIN_20211121_13_06_34_Pro.jpg\n",
            "Tensorflow/workspace/images/train/WIN_20211121_13_06_34_Pro.xml\n",
            "Tensorflow/workspace/images/train/WIN_20211121_13_07_07_Pro.jpg\n",
            "Tensorflow/workspace/images/train/WIN_20211121_13_07_07_Pro.xml\n",
            "Tensorflow/workspace/images/train/WIN_20211121_13_07_49_Pro.jpg\n",
            "Tensorflow/workspace/images/train/WIN_20211121_13_07_49_Pro.xml\n",
            "Tensorflow/workspace/images/train/WIN_20211121_13_07_59_Pro.jpg\n",
            "Tensorflow/workspace/images/train/WIN_20211121_13_07_59_Pro.xml\n",
            "Tensorflow/workspace/images/train/WIN_20211121_13_08_32_Pro.jpg\n",
            "Tensorflow/workspace/images/train/WIN_20211121_13_08_32_Pro.xml\n",
            "Tensorflow/workspace/images/train/WIN_20211121_13_08_53_Pro.jpg\n",
            "Tensorflow/workspace/images/train/WIN_20211121_13_08_53_Pro.xml\n",
            "Tensorflow/workspace/images/train/WIN_20211121_13_10_17_Pro.jpg\n",
            "Tensorflow/workspace/images/train/WIN_20211121_13_10_17_Pro.xml\n",
            "Tensorflow/workspace/images/train/WIN_20211121_13_10_26_Pro.jpg\n",
            "Tensorflow/workspace/images/train/WIN_20211121_13_10_26_Pro.xml\n",
            "Tensorflow/workspace/images/train/WIN_20211121_13_10_48_Pro.jpg\n",
            "Tensorflow/workspace/images/train/WIN_20211121_13_10_48_Pro.xml\n",
            "Tensorflow/workspace/images/train/WIN_20211121_13_11_08_Pro.jpg\n",
            "Tensorflow/workspace/images/train/WIN_20211121_13_11_08_Pro.xml\n",
            "Tensorflow/workspace/images/train/WIN_20211121_13_11_19_Pro.jpg\n",
            "Tensorflow/workspace/images/train/WIN_20211121_13_11_19_Pro.xml\n",
            "Tensorflow/workspace/images/train/WIN_20211121_13_11_28_Pro.jpg\n",
            "Tensorflow/workspace/images/train/WIN_20211121_13_11_28_Pro.xml\n",
            "Tensorflow/workspace/images/train/WIN_20211121_13_11_36_Pro.jpg\n",
            "Tensorflow/workspace/images/train/WIN_20211121_13_11_36_Pro.xml\n",
            "Tensorflow/workspace/images/train/WIN_20211121_13_11_53_Pro.jpg\n",
            "Tensorflow/workspace/images/train/WIN_20211121_13_11_53_Pro.xml\n",
            "Tensorflow/workspace/images/train/WIN_20211121_13_12_38_Pro.jpg\n",
            "Tensorflow/workspace/images/train/WIN_20211121_13_12_38_Pro.xml\n",
            "Tensorflow/workspace/images/train/WIN_20211121_13_12_48_Pro.jpg\n",
            "Tensorflow/workspace/images/train/WIN_20211121_13_12_48_Pro.xml\n",
            "Tensorflow/workspace/images/train/WIN_20211121_13_13_12_Pro.jpg\n",
            "Tensorflow/workspace/images/train/WIN_20211121_13_13_12_Pro.xml\n",
            "Tensorflow/workspace/images/train/WIN_20211121_13_13_24_Pro.jpg\n",
            "Tensorflow/workspace/images/train/WIN_20211121_13_13_24_Pro.xml\n",
            "Tensorflow/workspace/images/train/WIN_20211121_13_13_35_Pro.jpg\n",
            "Tensorflow/workspace/images/train/WIN_20211121_13_13_35_Pro.xml\n",
            "Tensorflow/workspace/images/train/WIN_20211121_13_13_45_Pro.jpg\n",
            "Tensorflow/workspace/images/train/WIN_20211121_13_13_45_Pro.xml\n",
            "Tensorflow/workspace/images/train/WIN_20211121_13_13_55_Pro.jpg\n",
            "Tensorflow/workspace/images/train/WIN_20211121_13_13_55_Pro.xml\n",
            "Tensorflow/workspace/images/train/WIN_20211121_13_14_05_Pro.jpg\n",
            "Tensorflow/workspace/images/train/WIN_20211121_13_14_05_Pro.xml\n",
            "Tensorflow/workspace/images/train/WIN_20211121_13_14_19_Pro.jpg\n",
            "Tensorflow/workspace/images/train/WIN_20211121_13_14_19_Pro.xml\n",
            "Tensorflow/workspace/images/train/WIN_20211121_13_14_28_Pro.jpg\n",
            "Tensorflow/workspace/images/train/WIN_20211121_13_14_28_Pro.xml\n",
            "Tensorflow/workspace/images/train/WIN_20211121_13_14_35_Pro.jpg\n",
            "Tensorflow/workspace/images/train/WIN_20211121_13_14_35_Pro.xml\n",
            "Tensorflow/workspace/images/train/WIN_20211121_13_14_44_Pro.jpg\n",
            "Tensorflow/workspace/images/train/WIN_20211121_13_14_44_Pro.xml\n",
            "Tensorflow/workspace/images/train/WIN_20211121_13_14_53_Pro.jpg\n",
            "Tensorflow/workspace/images/train/WIN_20211121_13_14_53_Pro.xml\n",
            "Tensorflow/workspace/images/train/WIN_20211121_13_15_02_Pro.jpg\n",
            "Tensorflow/workspace/images/train/WIN_20211121_13_15_02_Pro.xml\n",
            "Tensorflow/workspace/images/train/WIN_20211121_13_15_28_Pro.jpg\n",
            "Tensorflow/workspace/images/train/WIN_20211121_13_15_28_Pro.xml\n",
            "Tensorflow/workspace/images/train/WIN_20211121_13_15_36_Pro.jpg\n",
            "Tensorflow/workspace/images/train/WIN_20211121_13_15_36_Pro.xml\n",
            "Tensorflow/workspace/images/train/WIN_20211121_13_15_46_Pro.jpg\n",
            "Tensorflow/workspace/images/train/WIN_20211121_13_15_46_Pro.xml\n",
            "Tensorflow/workspace/images/train/WIN_20211121_13_15_55_Pro.jpg\n",
            "Tensorflow/workspace/images/train/WIN_20211121_13_15_55_Pro.xml\n",
            "Tensorflow/workspace/images/train/WIN_20211121_13_16_05_Pro.jpg\n",
            "Tensorflow/workspace/images/train/WIN_20211121_13_16_05_Pro.xml\n",
            "Tensorflow/workspace/images/train/WIN_20211121_13_16_14_Pro.jpg\n",
            "Tensorflow/workspace/images/train/WIN_20211121_13_16_14_Pro.xml\n",
            "Tensorflow/workspace/images/train/WIN_20211121_13_16_23_Pro.jpg\n",
            "Tensorflow/workspace/images/train/WIN_20211121_13_16_23_Pro.xml\n",
            "Tensorflow/workspace/images/train/WIN_20211121_13_16_32_Pro.jpg\n",
            "Tensorflow/workspace/images/train/WIN_20211121_13_16_32_Pro.xml\n",
            "Tensorflow/workspace/images/train/WIN_20211121_13_16_40_Pro.jpg\n",
            "Tensorflow/workspace/images/train/WIN_20211121_13_16_40_Pro.xml\n",
            "Tensorflow/workspace/images/train/WIN_20211121_13_16_48_Pro.jpg\n",
            "Tensorflow/workspace/images/train/WIN_20211121_13_16_48_Pro.xml\n",
            "Tensorflow/workspace/images/train/WIN_20211121_13_17_04_Pro.jpg\n",
            "Tensorflow/workspace/images/train/WIN_20211121_13_17_04_Pro.xml\n",
            "Tensorflow/workspace/images/train/WIN_20211121_13_17_13_Pro.jpg\n",
            "Tensorflow/workspace/images/train/WIN_20211121_13_17_13_Pro.xml\n",
            "Tensorflow/workspace/images/train/WIN_20211121_13_17_23_Pro.jpg\n",
            "Tensorflow/workspace/images/train/WIN_20211121_13_17_23_Pro.xml\n",
            "Tensorflow/workspace/images/train/WIN_20211121_13_17_31_Pro.jpg\n",
            "Tensorflow/workspace/images/train/WIN_20211121_13_17_31_Pro.xml\n",
            "Tensorflow/workspace/images/train/WIN_20211121_13_17_40_Pro.jpg\n",
            "Tensorflow/workspace/images/train/WIN_20211121_13_17_40_Pro.xml\n",
            "Tensorflow/workspace/images/train/WIN_20211121_13_17_50_Pro.jpg\n",
            "Tensorflow/workspace/images/train/WIN_20211121_13_17_50_Pro.xml\n",
            "Tensorflow/workspace/images/train/WIN_20211121_13_18_06_Pro.jpg\n",
            "Tensorflow/workspace/images/train/WIN_20211121_13_18_06_Pro.xml\n",
            "Tensorflow/workspace/images/train/WIN_20211121_13_18_28_Pro.jpg\n",
            "Tensorflow/workspace/images/train/WIN_20211121_13_18_28_Pro.xml\n",
            "Tensorflow/workspace/images/train/WIN_20211121_13_18_44_Pro.jpg\n",
            "Tensorflow/workspace/images/train/WIN_20211121_13_18_44_Pro.xml\n",
            "Tensorflow/workspace/images/train/WIN_20211121_13_18_56_Pro.jpg\n",
            "Tensorflow/workspace/images/train/WIN_20211121_13_18_56_Pro.xml\n",
            "Tensorflow/workspace/images/train/WIN_20211121_13_19_10_Pro.jpg\n",
            "Tensorflow/workspace/images/train/WIN_20211121_13_19_10_Pro.xml\n",
            "Tensorflow/workspace/images/train/WIN_20211121_13_19_19_Pro.jpg\n",
            "Tensorflow/workspace/images/train/WIN_20211121_13_19_19_Pro.xml\n",
            "Tensorflow/workspace/images/train/WIN_20211121_13_19_54_Pro.jpg\n",
            "Tensorflow/workspace/images/train/WIN_20211121_13_19_54_Pro.xml\n",
            "Tensorflow/workspace/images/train/WIN_20211121_13_23_04_Pro.jpg\n",
            "Tensorflow/workspace/images/train/WIN_20211121_13_23_04_Pro.xml\n",
            "Tensorflow/workspace/images/train/WIN_20211121_13_23_21_Pro.jpg\n",
            "Tensorflow/workspace/images/train/WIN_20211121_13_23_21_Pro.xml\n",
            "Tensorflow/workspace/images/train/WIN_20211121_13_23_37_Pro.jpg\n",
            "Tensorflow/workspace/images/train/WIN_20211121_13_23_37_Pro.xml\n",
            "Tensorflow/workspace/images/train/WIN_20211121_13_23_45_Pro.jpg\n",
            "Tensorflow/workspace/images/train/WIN_20211121_13_23_45_Pro.xml\n",
            "Tensorflow/workspace/images/train/WIN_20211121_13_24_05_Pro.jpg\n",
            "Tensorflow/workspace/images/train/WIN_20211121_13_24_05_Pro.xml\n",
            "Tensorflow/workspace/images/train/WIN_20211121_13_24_27_Pro.jpg\n",
            "Tensorflow/workspace/images/train/WIN_20211121_13_24_27_Pro.xml\n",
            "Tensorflow/workspace/images/train/WIN_20211121_13_24_36_Pro.jpg\n",
            "Tensorflow/workspace/images/train/WIN_20211121_13_24_36_Pro.xml\n",
            "Tensorflow/workspace/images/train/WIN_20211121_13_24_49_Pro.jpg\n",
            "Tensorflow/workspace/images/train/WIN_20211121_13_24_49_Pro.xml\n",
            "Tensorflow/workspace/images/train/WIN_20211121_13_25_19_Pro.jpg\n",
            "Tensorflow/workspace/images/train/WIN_20211121_13_25_19_Pro.xml\n",
            "Tensorflow/workspace/images/train/WIN_20211121_13_26_03_Pro.jpg\n",
            "Tensorflow/workspace/images/train/WIN_20211121_13_26_03_Pro.xml\n",
            "Tensorflow/workspace/images/test/\n",
            "Tensorflow/workspace/images/test/WIN_20211121_12_43_01_Pro.jpg\n",
            "Tensorflow/workspace/images/test/WIN_20211121_12_43_01_Pro.xml\n",
            "Tensorflow/workspace/images/test/WIN_20211121_12_50_10_Pro.jpg\n",
            "Tensorflow/workspace/images/test/WIN_20211121_12_50_10_Pro.xml\n",
            "Tensorflow/workspace/images/test/WIN_20211121_12_53_01_Pro.jpg\n",
            "Tensorflow/workspace/images/test/WIN_20211121_12_53_01_Pro.xml\n",
            "Tensorflow/workspace/images/test/WIN_20211121_13_19_27_Pro.jpg\n",
            "Tensorflow/workspace/images/test/WIN_20211121_13_19_27_Pro.xml\n",
            "Tensorflow/workspace/images/test/WIN_20211121_13_19_36_Pro.jpg\n",
            "Tensorflow/workspace/images/test/WIN_20211121_13_19_36_Pro.xml\n",
            "Tensorflow/workspace/images/test/WIN_20211121_13_20_18_Pro.jpg\n",
            "Tensorflow/workspace/images/test/WIN_20211121_13_20_18_Pro.xml\n",
            "Tensorflow/workspace/images/test/WIN_20211121_13_20_28_Pro.jpg\n",
            "Tensorflow/workspace/images/test/WIN_20211121_13_20_28_Pro.xml\n",
            "Tensorflow/workspace/images/test/WIN_20211121_13_20_36_Pro.jpg\n",
            "Tensorflow/workspace/images/test/WIN_20211121_13_20_36_Pro.xml\n",
            "Tensorflow/workspace/images/test/WIN_20211121_13_20_45_Pro.jpg\n",
            "Tensorflow/workspace/images/test/WIN_20211121_13_20_45_Pro.xml\n",
            "Tensorflow/workspace/images/test/WIN_20211121_13_20_56_Pro.jpg\n",
            "Tensorflow/workspace/images/test/WIN_20211121_13_20_56_Pro.xml\n",
            "Tensorflow/workspace/images/test/WIN_20211121_13_21_05_Pro.jpg\n",
            "Tensorflow/workspace/images/test/WIN_20211121_13_21_05_Pro.xml\n",
            "Tensorflow/workspace/images/test/WIN_20211121_13_21_14_Pro.jpg\n",
            "Tensorflow/workspace/images/test/WIN_20211121_13_21_14_Pro.xml\n",
            "Tensorflow/workspace/images/test/WIN_20211121_13_21_23_Pro.jpg\n",
            "Tensorflow/workspace/images/test/WIN_20211121_13_21_23_Pro.xml\n",
            "Tensorflow/workspace/images/test/WIN_20211121_13_21_34_Pro.jpg\n",
            "Tensorflow/workspace/images/test/WIN_20211121_13_21_34_Pro.xml\n",
            "Tensorflow/workspace/images/test/WIN_20211121_13_21_42_Pro.jpg\n",
            "Tensorflow/workspace/images/test/WIN_20211121_13_21_42_Pro.xml\n",
            "Tensorflow/workspace/images/test/WIN_20211121_13_21_49_Pro.jpg\n",
            "Tensorflow/workspace/images/test/WIN_20211121_13_21_49_Pro.xml\n",
            "Tensorflow/workspace/images/test/WIN_20211121_13_24_57_Pro.jpg\n",
            "Tensorflow/workspace/images/test/WIN_20211121_13_24_57_Pro.xml\n",
            "Tensorflow/workspace/images/test/WIN_20211121_13_25_46_Pro.jpg\n",
            "Tensorflow/workspace/images/test/WIN_20211121_13_25_46_Pro.xml\n",
            "Tensorflow/workspace/images/test/WIN_20211121_13_26_11_Pro.jpg\n",
            "Tensorflow/workspace/images/test/WIN_20211121_13_26_11_Pro.xml\n",
            "Tensorflow/workspace/images/test/WIN_20211121_13_26_32_Pro.jpg\n",
            "Tensorflow/workspace/images/test/WIN_20211121_13_26_32_Pro.xml\n",
            "Tensorflow/workspace/images/test/WIN_20211121_13_26_48_Pro.jpg\n",
            "Tensorflow/workspace/images/test/WIN_20211121_13_26_48_Pro.xml\n"
          ]
        }
      ]
    },
    {
      "cell_type": "markdown",
      "source": [
        "### **Utworzenie rekordów treningowych i testowych**"
      ],
      "metadata": {
        "id": "CqWvZp4BgMGn"
      }
    },
    {
      "cell_type": "markdown",
      "source": [
        "Utworzenie Label Map"
      ],
      "metadata": {
        "id": "QKoeBPHEgO--"
      }
    },
    {
      "cell_type": "code",
      "source": [
        "labels = [{'name':'bullethole', 'id':1}]\n",
        "\n",
        "with open(files['LABELMAP'], 'w') as f:\n",
        "    for label in labels:\n",
        "        f.write('item { \\n')\n",
        "        f.write('\\tname:\\'{}\\'\\n'.format(label['name']))\n",
        "        f.write('\\tid:{}\\n'.format(label['id']))\n",
        "        f.write('}\\n')"
      ],
      "metadata": {
        "id": "UpSWblj1gPzT"
      },
      "execution_count": null,
      "outputs": []
    },
    {
      "cell_type": "markdown",
      "source": [
        "Pobranie skryptu generującego pliki .record"
      ],
      "metadata": {
        "id": "41Qh6E4SgZn4"
      }
    },
    {
      "cell_type": "code",
      "source": [
        "if not os.path.exists(files['TF_RECORD_SCRIPT']):\n",
        "    !git clone https://github.com/nicknochnack/GenerateTFRecord {paths['SCRIPTS_PATH']}"
      ],
      "metadata": {
        "id": "PGEFfXdQgXb_"
      },
      "execution_count": null,
      "outputs": []
    },
    {
      "cell_type": "markdown",
      "source": [
        "Tworzenie rekordów"
      ],
      "metadata": {
        "id": "ptPyz0YSgctQ"
      }
    },
    {
      "cell_type": "code",
      "source": [
        "!python {files['TF_RECORD_SCRIPT']} -x {os.path.join(paths['IMAGE_PATH'], 'train')} -l {files['LABELMAP']} -o {os.path.join(paths['ANNOTATION_PATH'], 'train.record')}\n",
        "!python {files['TF_RECORD_SCRIPT']} -x {os.path.join(paths['IMAGE_PATH'], 'test')} -l {files['LABELMAP']} -o {os.path.join(paths['ANNOTATION_PATH'], 'test.record')}"
      ],
      "metadata": {
        "id": "XlS9Tj7NgbAP",
        "colab": {
          "base_uri": "https://localhost:8080/"
        },
        "outputId": "8527c46a-7a84-48fa-e6ac-85bbe96fe572"
      },
      "execution_count": null,
      "outputs": [
        {
          "output_type": "stream",
          "name": "stdout",
          "text": [
            "2022-02-09 19:51:55.429450: E tensorflow/stream_executor/cuda/cuda_driver.cc:271] failed call to cuInit: CUDA_ERROR_NO_DEVICE: no CUDA-capable device is detected\n",
            "Successfully created the TFRecord file: Tensorflow/workspace/annotations/train.record\n",
            "2022-02-09 19:51:59.957381: E tensorflow/stream_executor/cuda/cuda_driver.cc:271] failed call to cuInit: CUDA_ERROR_NO_DEVICE: no CUDA-capable device is detected\n",
            "Successfully created the TFRecord file: Tensorflow/workspace/annotations/test.record\n"
          ]
        }
      ]
    },
    {
      "cell_type": "markdown",
      "source": [
        "### **Zmiana parametrów pliku konfiguracyjnego modelu**"
      ],
      "metadata": {
        "id": "aeDwFQR9ggnz"
      }
    },
    {
      "cell_type": "code",
      "source": [
        "import tensorflow as tf\n",
        "from object_detection.utils import config_util\n",
        "from object_detection.protos import pipeline_pb2\n",
        "from google.protobuf import text_format"
      ],
      "metadata": {
        "id": "umfDh4OcgoAJ"
      },
      "execution_count": null,
      "outputs": []
    },
    {
      "cell_type": "markdown",
      "source": [
        "Kopiowanie pliku konfiguracyjnego modelu do folderu treningowego"
      ],
      "metadata": {
        "id": "-2TFPtuEgkPM"
      }
    },
    {
      "cell_type": "code",
      "source": [
        "if os.name =='posix':\n",
        "    !cp {os.path.join(paths['PRETRAINED_MODEL_PATH'], PRETRAINED_MODEL_NAME, 'pipeline.config')} {os.path.join(paths['CHECKPOINT_PATH'])}\n",
        "if os.name == 'nt':\n",
        "    !copy {os.path.join(paths['PRETRAINED_MODEL_PATH'], PRETRAINED_MODEL_NAME, 'pipeline.config')} {os.path.join(paths['CHECKPOINT_PATH'])}"
      ],
      "metadata": {
        "id": "cWdF9v3XglVy"
      },
      "execution_count": null,
      "outputs": []
    },
    {
      "cell_type": "markdown",
      "source": [
        "Zmiana parametrów"
      ],
      "metadata": {
        "id": "Ic17mtY7gmq7"
      }
    },
    {
      "cell_type": "code",
      "source": [
        "config = config_util.get_configs_from_pipeline_file(files['PIPELINE_CONFIG'])\n",
        "\n",
        "pipeline_config = pipeline_pb2.TrainEvalPipelineConfig()\n",
        "with tf.io.gfile.GFile(files['PIPELINE_CONFIG'], \"r\") as f:\n",
        "    proto_str = f.read()\n",
        "    text_format.Merge(proto_str, pipeline_config)"
      ],
      "metadata": {
        "id": "OktgdNJ6gqZB"
      },
      "execution_count": null,
      "outputs": []
    },
    {
      "cell_type": "code",
      "source": [
        "pipeline_config.model.faster_rcnn.num_classes = 1\n",
        "pipeline_config.train_config.batch_size = 1\n",
        "pipeline_config.train_config.fine_tune_checkpoint = os.path.join(paths['PRETRAINED_MODEL_PATH'], PRETRAINED_MODEL_NAME, 'checkpoint', 'ckpt-0')\n",
        "pipeline_config.train_config.fine_tune_checkpoint_type = \"detection\"\n",
        "pipeline_config.train_input_reader.label_map_path= files['LABELMAP']\n",
        "pipeline_config.train_input_reader.tf_record_input_reader.input_path[:] = [os.path.join(paths['ANNOTATION_PATH'], 'train.record')]\n",
        "pipeline_config.eval_input_reader[0].label_map_path = files['LABELMAP']\n",
        "pipeline_config.eval_input_reader[0].tf_record_input_reader.input_path[:] = [os.path.join(paths['ANNOTATION_PATH'], 'test.record')]"
      ],
      "metadata": {
        "id": "vKpsIGl1grWC"
      },
      "execution_count": null,
      "outputs": []
    },
    {
      "cell_type": "code",
      "source": [
        "config_text = text_format.MessageToString(pipeline_config)\n",
        "with tf.io.gfile.GFile(files['PIPELINE_CONFIG'], \"wb\") as f:\n",
        "    f.write(config_text)"
      ],
      "metadata": {
        "id": "yqSCR0ckgsNc"
      },
      "execution_count": null,
      "outputs": []
    },
    {
      "cell_type": "markdown",
      "source": [
        "### **Trenowanie modelu**"
      ],
      "metadata": {
        "id": "j_wG5XZJguMl"
      }
    },
    {
      "cell_type": "code",
      "source": [
        "TRAINING_SCRIPT = os.path.join(paths['APIMODEL_PATH'], 'research', 'object_detection', 'model_main_tf2.py')\n",
        "command = \"python {} --model_dir={} --pipeline_config_path={} --num_train_steps=5000\".format(TRAINING_SCRIPT, paths['CHECKPOINT_PATH'],files['PIPELINE_CONFIG'])"
      ],
      "metadata": {
        "id": "NWmW3TBjgwM1"
      },
      "execution_count": null,
      "outputs": []
    },
    {
      "cell_type": "code",
      "source": [
        "!{command}"
      ],
      "metadata": {
        "id": "-QkvUtXCgyxo"
      },
      "execution_count": null,
      "outputs": []
    },
    {
      "cell_type": "markdown",
      "source": [
        "### **Ewaluacja modelu**"
      ],
      "metadata": {
        "id": "Mhz0pauPg1iH"
      }
    },
    {
      "cell_type": "code",
      "source": [
        "command = \"python {} --model_dir={} --pipeline_config_path={} --checkpoint_dir={}\".format(TRAINING_SCRIPT, paths['CHECKPOINT_PATH'],files['PIPELINE_CONFIG'], paths['CHECKPOINT_PATH'])"
      ],
      "metadata": {
        "id": "klOnCp_Qg3Ua"
      },
      "execution_count": null,
      "outputs": []
    },
    {
      "cell_type": "code",
      "source": [
        "!{command}"
      ],
      "metadata": {
        "id": "ONqdHDbgg502"
      },
      "execution_count": null,
      "outputs": []
    },
    {
      "cell_type": "markdown",
      "source": [
        "### **Import modelu z Dysku Google**"
      ],
      "metadata": {
        "id": "WiNSxaLSixJL"
      }
    },
    {
      "cell_type": "code",
      "source": [
        "if os.name =='posix':\n",
        "    !cp 'drive/MyDrive/Praca_Dyplomowa/models.tar.gz' 'Tensorflow/workspace/models'\n",
        "if os.name == 'nt':\n",
        "    !copy 'drive/MyDrive/Praca_Dyplomowa/models.tar.gz' 'Tensorflow/workspace/models'"
      ],
      "metadata": {
        "id": "A8XlbkwM16KB"
      },
      "execution_count": null,
      "outputs": []
    },
    {
      "cell_type": "code",
      "source": [
        "MODEL_FILES = os.path.join(paths['MODEL_PATH'], 'models.tar.gz')\n",
        "if os.path.exists(MODEL_FILES):\n",
        "  !tar -zxvf {MODEL_FILES}"
      ],
      "metadata": {
        "id": "2B2c8-Bii1Kl"
      },
      "execution_count": null,
      "outputs": []
    },
    {
      "cell_type": "markdown",
      "source": [
        "### **Detekcja obiektu z obrazu testowego**"
      ],
      "metadata": {
        "id": "y8PT8un_g9Lj"
      }
    },
    {
      "cell_type": "code",
      "source": [
        "import os\n",
        "import tensorflow as tf\n",
        "from object_detection.utils import label_map_util\n",
        "from object_detection.utils import visualization_utils as viz_utils\n",
        "from object_detection.builders import model_builder\n",
        "from object_detection.utils import config_util\n",
        "\n",
        "configs = config_util.get_configs_from_pipeline_file(files['PIPELINE_CONFIG'])\n",
        "detection_model = model_builder.build(model_config=configs['model'], is_training=False)\n",
        "\n",
        "ckpt = tf.compat.v2.train.Checkpoint(model=detection_model)\n",
        "ckpt.restore(os.path.join(paths['CHECKPOINT_PATH'], 'ckpt-6')).expect_partial()\n",
        "\n",
        "@tf.function\n",
        "def detect_fn(image):\n",
        "    image, shapes = detection_model.preprocess(image)\n",
        "    prediction_dict = detection_model.predict(image, shapes)\n",
        "    detections = detection_model.postprocess(prediction_dict, shapes)\n",
        "    return detections"
      ],
      "metadata": {
        "id": "arqNStoyg_Tb"
      },
      "execution_count": null,
      "outputs": []
    },
    {
      "cell_type": "markdown",
      "source": [
        "Jeśli nie działa import cv2 konieczne jest wykonanie poniższych kroków:"
      ],
      "metadata": {
        "id": "7knB5yjLoK4t"
      }
    },
    {
      "cell_type": "code",
      "source": [
        "pip install opencv-python"
      ],
      "metadata": {
        "id": "rbwurDk1MA_r"
      },
      "execution_count": null,
      "outputs": []
    },
    {
      "cell_type": "code",
      "source": [
        "pip install opencv-python-headless==4.1.2.30"
      ],
      "metadata": {
        "id": "VauBM19PMzWG"
      },
      "execution_count": null,
      "outputs": []
    },
    {
      "cell_type": "markdown",
      "source": [
        "Detekcja:"
      ],
      "metadata": {
        "id": "_H_Ec6lXoQRJ"
      }
    },
    {
      "cell_type": "code",
      "source": [
        "import cv2\n",
        "import numpy as np\n",
        "from matplotlib import pyplot as plt\n",
        "%matplotlib inline\n",
        "\n",
        "category_index = label_map_util.create_category_index_from_labelmap(files['LABELMAP'])"
      ],
      "metadata": {
        "id": "LrD5DuJLhA93"
      },
      "execution_count": null,
      "outputs": []
    },
    {
      "cell_type": "code",
      "source": [
        "IMAGE_PATH = os.path.join(paths['IMAGE_PATH'], 'test', 'WIN_20211121_13_20_36_Pro.jpg')\n",
        "img = cv2.imread(IMAGE_PATH)\n",
        "image_np = np.array(img)\n",
        "\n",
        "input_tensor = tf.convert_to_tensor(np.expand_dims(image_np, 0), dtype=tf.float32)\n",
        "detections = detect_fn(input_tensor)\n",
        "\n",
        "num_detections = int(detections.pop('num_detections'))\n",
        "detections = {key: value[0, :num_detections].numpy()\n",
        "              for key, value in detections.items()}\n",
        "detections['num_detections'] = num_detections\n",
        "\n",
        "detections['detection_classes'] = detections['detection_classes'].astype(np.int64)\n",
        "\n",
        "label_id_offset = 1\n",
        "image_np_with_detections = image_np.copy()\n",
        "\n",
        "viz_utils.visualize_boxes_and_labels_on_image_array(\n",
        "            image_np_with_detections,\n",
        "            detections['detection_boxes'],\n",
        "            detections['detection_classes']+label_id_offset,\n",
        "            detections['detection_scores'],\n",
        "            category_index,\n",
        "            use_normalized_coordinates=True,\n",
        "            max_boxes_to_draw=5,\n",
        "            min_score_thresh=.8,\n",
        "            agnostic_mode=False)\n",
        "\n",
        "plt.figure(figsize = (100,10))\n",
        "plt.imshow(cv2.cvtColor(image_np_with_detections, cv2.COLOR_BGR2RGB))\n",
        "plt.show()"
      ],
      "metadata": {
        "id": "SU5qi8RZhCUX"
      },
      "execution_count": null,
      "outputs": []
    },
    {
      "cell_type": "markdown",
      "source": [
        "### **Export modelu**"
      ],
      "metadata": {
        "id": "2mgcE_uThFFB"
      }
    },
    {
      "cell_type": "code",
      "source": [
        "!tar -czf models.tar.gz {paths['CHECKPOINT_PATH']}"
      ],
      "metadata": {
        "id": "6zQnjzjihHn-"
      },
      "execution_count": null,
      "outputs": []
    },
    {
      "cell_type": "markdown",
      "source": [
        "# **Znalezienie współrzędnych dziur po kulach**"
      ],
      "metadata": {
        "id": "plGWrfgz_VAT"
      }
    },
    {
      "cell_type": "markdown",
      "source": [
        "Wylistowanie wykrytych dziur"
      ],
      "metadata": {
        "id": "BmEnUaQQdeJI"
      }
    },
    {
      "cell_type": "code",
      "source": [
        "boxes = detections['detection_boxes']\n",
        "max_boxes_to_draw = boxes.shape[0]\n",
        "scores = detections['detection_scores']\n",
        "min_score_thresh=.8\n",
        "\n",
        "bullethole_boxes = []\n",
        "\n",
        "for i in range(min(max_boxes_to_draw, boxes.shape[0])):\n",
        "    if scores is None or scores[i] > min_score_thresh:\n",
        "        # (ymin, xmin, ymax, xmax)\n",
        "        print(\"Bullethole\", boxes[i])\n",
        "        bullethole_boxes.append(boxes[i])"
      ],
      "metadata": {
        "id": "TkQ684GJNSpu",
        "colab": {
          "base_uri": "https://localhost:8080/"
        },
        "outputId": "53a52a67-55a8-4f7c-cb77-16c751f4b389"
      },
      "execution_count": null,
      "outputs": [
        {
          "output_type": "stream",
          "name": "stdout",
          "text": [
            "Bullethole [0.44297713 0.52673507 0.47095272 0.5440214 ]\n",
            "Bullethole [0.36265644 0.43720692 0.38830653 0.45357057]\n",
            "Bullethole [0.5122031  0.50233907 0.54074574 0.5189348 ]\n"
          ]
        }
      ]
    },
    {
      "cell_type": "markdown",
      "source": [
        "Obliczenie środków odcinków boxów"
      ],
      "metadata": {
        "id": "ewS9eJxejAKz"
      }
    },
    {
      "cell_type": "code",
      "source": [
        "bulletholes = []\n",
        "\n",
        "for i in range(len(bullethole_boxes)):\n",
        "    # współrzędne narożników, bullethole_boxes = (ymin, xmin, ymax, xmax)\n",
        "    a = [bullethole_boxes[i][1]*1920, bullethole_boxes[i][0]*1080]\n",
        "    b = [bullethole_boxes[i][3]*1920, bullethole_boxes[i][0]*1080]\n",
        "    c = [bullethole_boxes[i][3]*1920, bullethole_boxes[i][2]*1080]\n",
        "    d = [bullethole_boxes[i][1]*1920, bullethole_boxes[i][2]*1080]\n",
        "\n",
        "    # środki odcinków (styczne przestrzeleń)\n",
        "    ab = [ round((a[0]+b[0])/2), round((a[1]+b[1])/2) ]\n",
        "    bc = [ round((b[0]+c[0])/2), round((b[1]+c[1])/2) ]\n",
        "    cd = [ round((c[0]+d[0])/2), round((c[1]+d[1])/2) ]\n",
        "    da = [ round((d[0]+a[0])/2), round((d[1]+a[1])/2) ]\n",
        "\n",
        "    bulletholes.append([ab, bc, cd, da])"
      ],
      "metadata": {
        "id": "kS32zzu6dkqT"
      },
      "execution_count": null,
      "outputs": []
    },
    {
      "cell_type": "markdown",
      "source": [
        "# **Znalezienie współrzędnych środka tarczy i wszystkich okręgów punktowych**"
      ],
      "metadata": {
        "id": "2F3oPEVcjfYJ"
      }
    },
    {
      "cell_type": "markdown",
      "source": [
        "Detekcja pierścieni punktowych i rysowanie ich na obrazach"
      ],
      "metadata": {
        "id": "OUpaulSTYRht"
      }
    },
    {
      "cell_type": "code",
      "source": [
        "from google.colab.patches import cv2_imshow\n",
        "\n",
        "img_copy = cv2.imread(IMAGE_PATH)\n",
        "img_result = image_np_with_detections.copy()\n",
        "bilateral_filtered_image = cv2.bilateralFilter(img_copy, 7, 175, 175)\n",
        "gray = cv2.cvtColor(bilateral_filtered_image,cv2.COLOR_BGR2GRAY)\n",
        "edges = cv2.Canny(gray,100,200,apertureSize = 5, L2gradient = True)\n",
        "\n",
        "target_circles_list = []\n",
        "target_circles_radius_list = []\n",
        "target_center = 0\n",
        "\n",
        "#zdefiniowanie przedziałów promieniów, w które mogą osiągać pierścienie punktowe\n",
        "for j in range(8):\n",
        "    if j == 0:\n",
        "        minRad = 40\n",
        "        maxRad = 60\n",
        "    elif j==1:\n",
        "        minRad = 110\n",
        "        maxRad = 130\n",
        "    elif j==2:\n",
        "        minRad = 180\n",
        "        maxRad = 200\n",
        "    elif j==3:\n",
        "        minRad = 240\n",
        "        maxRad = 260\n",
        "    elif j==4:\n",
        "        minRad = 310\n",
        "        maxRad = 330\n",
        "    elif j==5:\n",
        "        minRad = 380\n",
        "        maxRad = 400\n",
        "    elif j==6:\n",
        "        minRad = 440\n",
        "        maxRad = 460\n",
        "    elif j==7:\n",
        "        minRad = 500\n",
        "        maxRad = 520\n",
        "\n",
        "    circle = cv2.HoughCircles(edges, cv2.HOUGH_GRADIENT, dp=1, minDist=2000, param1=100, param2=30, minRadius=minRad, maxRadius=maxRad)\n",
        "    circle = np.uint16(np.around(circle))\n",
        "\n",
        "    for i in circle[0,:]:\n",
        "        # draw the outer circle\n",
        "        target_circles_list.append(i)\n",
        "        target_circles_radius_list.append(i[2])\n",
        "        cv2.circle(img_copy,(i[0],i[1]),i[2],(0,255,0),2)\n",
        "        if j == 0:\n",
        "            # draw the center of the circle\n",
        "            target_center = [i[0], i[1]]\n",
        "            cv2.circle(img_result,(i[0],i[1]),i[2],(255,0,0),2)\n",
        "            cv2.circle(img_result,(i[0],i[1]),2,(0,0,255),3)\n",
        "            cv2.circle(img_copy,(i[0],i[1]),2,(0,0,255),3)\n",
        "        if j == 7:\n",
        "          cv2.circle(img_result,(i[0],i[1]),i[2],(255,0,0),2)\n",
        "\n",
        "\n",
        "\n",
        "print('circles list', target_circles_list)\n",
        "print('circles radiuses', target_circles_radius_list)\n",
        "print('target center', target_center)\n",
        "cv2_imshow(img_copy)"
      ],
      "metadata": {
        "id": "n0Zo02mujOUK"
      },
      "execution_count": null,
      "outputs": []
    },
    {
      "cell_type": "markdown",
      "source": [
        "Obliczenie odległości stycznych przestrzeleń do środka tarcz"
      ],
      "metadata": {
        "id": "s-XUeGj8YdWh"
      }
    },
    {
      "cell_type": "code",
      "source": [
        "import math\n",
        "\n",
        "bullethole_distances = []\n",
        "\n",
        "for i in range(len(bulletholes)):\n",
        "    distances = []\n",
        "    for j in range(len(bulletholes[i])):\n",
        "        distance = math.sqrt( (bulletholes[i][j][0] - target_center[0])**2 + (bulletholes[i][j][1] - target_center[1])**2 )\n",
        "        distance = round(distance)\n",
        "        distances.append(distance)\n",
        "        if j>5:\n",
        "            cv2.line(img, (bulletholes[i][j][0], bulletholes[i][j][1]),(target_center[0], target_center[1]),(255,0,0), 5)\n",
        "\n",
        "        print (distance)\n",
        "    bullethole_distances.append(distances)"
      ],
      "metadata": {
        "id": "77GfnQoLoKlK",
        "colab": {
          "base_uri": "https://localhost:8080/"
        },
        "outputId": "4495aac6-1c5f-445a-d3a3-664d1d6911eb"
      },
      "execution_count": null,
      "outputs": [
        {
          "output_type": "stream",
          "name": "stdout",
          "text": [
            "88\n",
            "100\n",
            "82\n",
            "67\n",
            "149\n",
            "128\n",
            "129\n",
            "149\n",
            "55\n",
            "77\n",
            "81\n",
            "62\n"
          ]
        }
      ]
    },
    {
      "cell_type": "markdown",
      "source": [
        "Definiowanie tablicy punktów kolejnych pierścieni"
      ],
      "metadata": {
        "id": "7j1uZMA9Y9OW"
      }
    },
    {
      "cell_type": "code",
      "source": [
        "target_points = [10, 9, 8, 7, 6 , 5, 4, 3, 0]"
      ],
      "metadata": {
        "id": "ZjcYtaHayqxa"
      },
      "execution_count": null,
      "outputs": []
    },
    {
      "cell_type": "markdown",
      "source": [
        "Obliczenie maksymalnej ilości punktów dla każdego z punktów stycznych przestrzeleń"
      ],
      "metadata": {
        "id": "e6PXH5HfZO6v"
      }
    },
    {
      "cell_type": "code",
      "source": [
        "point = 0\n",
        "max_point_list = []\n",
        "\n",
        "for i in range(len(bullethole_distances)):\n",
        "  print('bullethole', i+1)\n",
        "  max_point = []\n",
        "  for j in range(len(bullethole_distances[i])):\n",
        "    print('bullethole_distances[i][j] =', bullethole_distances[i][j])\n",
        "    for k in range(len(target_circles_radius_list)):\n",
        "      if bullethole_distances[i][j] > target_circles_radius_list[k]:\n",
        "        point = target_points[k+1]\n",
        "    print('punkty:', point)\n",
        "    max_point.append(point)\n",
        "  max_point_list.append(max_point)\n",
        "  print()"
      ],
      "metadata": {
        "id": "gWx2rL190ajK",
        "colab": {
          "base_uri": "https://localhost:8080/"
        },
        "outputId": "8455fa89-2c93-4b5a-8a24-93cb94eb0068"
      },
      "execution_count": null,
      "outputs": [
        {
          "output_type": "stream",
          "name": "stdout",
          "text": [
            "bullethole 1\n",
            "bullethole_distances[i][j] = 88\n",
            "punkty: 9\n",
            "bullethole_distances[i][j] = 100\n",
            "punkty: 9\n",
            "bullethole_distances[i][j] = 82\n",
            "punkty: 9\n",
            "bullethole_distances[i][j] = 67\n",
            "punkty: 9\n",
            "\n",
            "bullethole 2\n",
            "bullethole_distances[i][j] = 149\n",
            "punkty: 8\n",
            "bullethole_distances[i][j] = 128\n",
            "punkty: 8\n",
            "bullethole_distances[i][j] = 129\n",
            "punkty: 8\n",
            "bullethole_distances[i][j] = 149\n",
            "punkty: 8\n",
            "\n",
            "bullethole 3\n",
            "bullethole_distances[i][j] = 55\n",
            "punkty: 9\n",
            "bullethole_distances[i][j] = 77\n",
            "punkty: 9\n",
            "bullethole_distances[i][j] = 81\n",
            "punkty: 9\n",
            "bullethole_distances[i][j] = 62\n",
            "punkty: 9\n",
            "\n"
          ]
        }
      ]
    },
    {
      "cell_type": "markdown",
      "source": [
        "Wybieranie jedynie największej osiągniętej przez przestrzelenie punktacji"
      ],
      "metadata": {
        "id": "ZuvQpuTjZcpK"
      }
    },
    {
      "cell_type": "code",
      "source": [
        "bullethole_points = []\n",
        "for i in range(len(max_point_list)):\n",
        "  bullethole_points.append(max(max_point_list[i]))\n",
        ""
      ],
      "metadata": {
        "id": "OVTtqErH7c93"
      },
      "execution_count": null,
      "outputs": []
    },
    {
      "cell_type": "markdown",
      "source": [
        "Rysowanie odpowiednich znaczników graficznych na końcowym obrazie"
      ],
      "metadata": {
        "id": "uk9RdcO-ZuQz"
      }
    },
    {
      "cell_type": "code",
      "source": [
        "for i in range(len(bullethole_points)):\n",
        "  cv2.putText(img_result, str(bullethole_points[i]), (bulletholes[i][2][0]+20, bulletholes[i][2][1]+20), cv2.FONT_HERSHEY_SIMPLEX, 0.75, (0, 0, 255), 2, cv2.FONT_HERSHEY_SIMPLEX)"
      ],
      "metadata": {
        "id": "or0-ew658T9B"
      },
      "execution_count": null,
      "outputs": []
    },
    {
      "cell_type": "code",
      "source": [
        "str_result = 'Result: ' + str(sum(bullethole_points)) + ' points'\n",
        "cv2.putText(img_result, str_result, (50, 1050), cv2.FONT_HERSHEY_SIMPLEX, 1.5, (0, 0, 255), 2, cv2.FONT_HERSHEY_SIMPLEX)"
      ],
      "metadata": {
        "id": "qe3QKtQXshfj"
      },
      "execution_count": null,
      "outputs": []
    },
    {
      "cell_type": "markdown",
      "source": [
        "Wyświetlenie końcowego wyniku detekcji"
      ],
      "metadata": {
        "id": "r10tF58gZmu1"
      }
    },
    {
      "cell_type": "code",
      "source": [
        "cv2_imshow(img_result)"
      ],
      "metadata": {
        "id": "7tesmjzYtQI5"
      },
      "execution_count": null,
      "outputs": []
    },
    {
      "cell_type": "markdown",
      "source": [
        "# **DETEKCJA W JEDNYM KROKU**"
      ],
      "metadata": {
        "id": "ujJvS0-SG7Hu"
      }
    },
    {
      "cell_type": "code",
      "source": [
        "IMAGE_PATH = os.path.join(paths['IMAGE_PATH'], 'test', 'WIN_20211121_13_26_11_Pro.jpg')\n",
        "img = cv2.imread(IMAGE_PATH)\n",
        "image_np = np.array(img)\n",
        "\n",
        "input_tensor = tf.convert_to_tensor(np.expand_dims(image_np, 0), dtype=tf.float32)\n",
        "detections = detect_fn(input_tensor)\n",
        "\n",
        "num_detections = int(detections.pop('num_detections'))\n",
        "detections = {key: value[0, :num_detections].numpy()\n",
        "              for key, value in detections.items()}\n",
        "detections['num_detections'] = num_detections\n",
        "\n",
        "detections['detection_classes'] = detections['detection_classes'].astype(np.int64)\n",
        "\n",
        "label_id_offset = 1\n",
        "image_np_with_detections = image_np.copy()\n",
        "\n",
        "viz_utils.visualize_boxes_and_labels_on_image_array(\n",
        "            image_np_with_detections,\n",
        "            detections['detection_boxes'],\n",
        "            detections['detection_classes']+label_id_offset,\n",
        "            detections['detection_scores'],\n",
        "            category_index,\n",
        "            use_normalized_coordinates=True,\n",
        "            max_boxes_to_draw=5,\n",
        "            min_score_thresh=.8,\n",
        "            agnostic_mode=False)\n",
        "\n",
        "\n",
        "boxes = detections['detection_boxes']\n",
        "max_boxes_to_draw = boxes.shape[0]\n",
        "scores = detections['detection_scores']\n",
        "min_score_thresh=.8\n",
        "\n",
        "bullethole_boxes = []\n",
        "\n",
        "for i in range(min(max_boxes_to_draw, boxes.shape[0])):\n",
        "    if scores is None or scores[i] > min_score_thresh:\n",
        "        # (ymin, xmin, ymax, xmax)\n",
        "        print(\"Bullethole\", boxes[i])\n",
        "        bullethole_boxes.append(boxes[i])\n",
        "\n",
        "bulletholes = []\n",
        "\n",
        "for i in range(len(bullethole_boxes)):\n",
        "    # współrzędne narożników, bullethole_boxes = (ymin, xmin, ymax, xmax)\n",
        "    a = [bullethole_boxes[i][1]*1920, bullethole_boxes[i][0]*1080]\n",
        "    b = [bullethole_boxes[i][3]*1920, bullethole_boxes[i][0]*1080]\n",
        "    c = [bullethole_boxes[i][3]*1920, bullethole_boxes[i][2]*1080]\n",
        "    d = [bullethole_boxes[i][1]*1920, bullethole_boxes[i][2]*1080]\n",
        "\n",
        "    # środki odcinków (styczne przestrzeleń)\n",
        "    ab = [ round((a[0]+b[0])/2), round((a[1]+b[1])/2) ]\n",
        "    bc = [ round((b[0]+c[0])/2), round((b[1]+c[1])/2) ]\n",
        "    cd = [ round((c[0]+d[0])/2), round((c[1]+d[1])/2) ]\n",
        "    da = [ round((d[0]+a[0])/2), round((d[1]+a[1])/2) ]\n",
        "\n",
        "    bulletholes.append([ab, bc, cd, da])\n",
        "\n",
        "from google.colab.patches import cv2_imshow\n",
        "\n",
        "img_copy = cv2.imread(IMAGE_PATH)\n",
        "img_result = image_np_with_detections.copy()\n",
        "bilateral_filtered_image = cv2.bilateralFilter(img_copy, 7, 175, 175)\n",
        "gray = cv2.cvtColor(bilateral_filtered_image,cv2.COLOR_BGR2GRAY)\n",
        "edges = cv2.Canny(gray,100,200,apertureSize = 5, L2gradient = True)\n",
        "\n",
        "target_circles_list = []\n",
        "target_circles_radius_list = []\n",
        "target_center = 0\n",
        "\n",
        "#zdefiniowanie przedziałów promieniów, w które mogą osiągać pierścienie punktowe\n",
        "for j in range(8):\n",
        "    if j == 0:\n",
        "        minRad = 40\n",
        "        maxRad = 60\n",
        "    elif j==1:\n",
        "        minRad = 110\n",
        "        maxRad = 130\n",
        "    elif j==2:\n",
        "        minRad = 180\n",
        "        maxRad = 200\n",
        "    elif j==3:\n",
        "        minRad = 240\n",
        "        maxRad = 260\n",
        "    elif j==4:\n",
        "        minRad = 310\n",
        "        maxRad = 330\n",
        "    elif j==5:\n",
        "        minRad = 380\n",
        "        maxRad = 400\n",
        "    elif j==6:\n",
        "        minRad = 440\n",
        "        maxRad = 460\n",
        "    elif j==7:\n",
        "        minRad = 500\n",
        "        maxRad = 520\n",
        "\n",
        "    circle = cv2.HoughCircles(edges, cv2.HOUGH_GRADIENT, dp=1, minDist=2000, param1=100, param2=30, minRadius=minRad, maxRadius=maxRad)\n",
        "    circle = np.uint16(np.around(circle))\n",
        "\n",
        "    for i in circle[0,:]:\n",
        "        # draw the outer circle\n",
        "        target_circles_list.append(i)\n",
        "        target_circles_radius_list.append(i[2])\n",
        "        cv2.circle(img_copy,(i[0],i[1]),i[2],(0,255,0),2)\n",
        "        if j == 0:\n",
        "            # draw the center of the circle\n",
        "            target_center = [i[0], i[1]]\n",
        "            cv2.circle(img_result,(i[0],i[1]),i[2],(255,0,0),2)\n",
        "            cv2.circle(img_result,(i[0],i[1]),2,(0,0,255),3)\n",
        "            cv2.circle(img_copy,(i[0],i[1]),2,(0,0,255),3)\n",
        "        if j == 7:\n",
        "          cv2.circle(img_result,(i[0],i[1]),i[2],(255,0,0),2)\n",
        "\n",
        "\n",
        "\n",
        "print('circles list', target_circles_list)\n",
        "print('circles radiuses', target_circles_radius_list)\n",
        "print('target center', target_center)\n",
        "\n",
        "\n",
        "import math\n",
        "\n",
        "bullethole_distances = []\n",
        "\n",
        "for i in range(len(bulletholes)):\n",
        "    distances = []\n",
        "    for j in range(len(bulletholes[i])):\n",
        "        distance = math.sqrt( (bulletholes[i][j][0] - target_center[0])**2 + (bulletholes[i][j][1] - target_center[1])**2 )\n",
        "        distance = round(distance)\n",
        "        distances.append(distance)\n",
        "        if j>5:\n",
        "            cv2.line(img, (bulletholes[i][j][0], bulletholes[i][j][1]),(target_center[0], target_center[1]),(255,0,0), 5)\n",
        "\n",
        "        print (distance)\n",
        "    bullethole_distances.append(distances)\n",
        "\n",
        "target_points = [10, 9, 8, 7, 6 , 5, 4, 3, 0]\n",
        "\n",
        "point = 0\n",
        "max_point_list = []\n",
        "\n",
        "for i in range(len(bullethole_distances)):\n",
        "  print('bullethole', i+1)\n",
        "  max_point = []\n",
        "  for j in range(len(bullethole_distances[i])):\n",
        "    print('bullethole_distances[i][j] =', bullethole_distances[i][j])\n",
        "    for k in range(len(target_circles_radius_list)):\n",
        "      if bullethole_distances[i][j] > target_circles_radius_list[k]:\n",
        "        point = target_points[k+1]\n",
        "    print('punkty:', point)\n",
        "    max_point.append(point)\n",
        "  max_point_list.append(max_point)\n",
        "  print()\n",
        "\n",
        "bullethole_points = []\n",
        "for i in range(len(max_point_list)):\n",
        "  bullethole_points.append(max(max_point_list[i]))\n",
        "\n",
        "for i in range(len(bullethole_points)):\n",
        "  cv2.putText(img_result, str(bullethole_points[i]), (bulletholes[i][2][0]+20, bulletholes[i][2][1]+20), cv2.FONT_HERSHEY_SIMPLEX, 0.75, (0, 0, 255), 2, cv2.FONT_HERSHEY_SIMPLEX)\n",
        "\n",
        "str_result = 'Result: ' + str(sum(bullethole_points)) + ' points'\n",
        "cv2.putText(img_result, str_result, (50, 1050), cv2.FONT_HERSHEY_SIMPLEX, 1.5, (0, 0, 255), 2, cv2.FONT_HERSHEY_SIMPLEX)\n",
        "\n",
        "cv2_imshow(img_result)"
      ],
      "metadata": {
        "id": "Cu8-VlDKG80z"
      },
      "execution_count": null,
      "outputs": []
    }
  ]
}